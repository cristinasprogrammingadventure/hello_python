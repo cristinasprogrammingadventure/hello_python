{
 "cells": [
  {
   "cell_type": "markdown",
   "id": "e4c44bc4-746a-402d-ba3e-0924d9b188e5",
   "metadata": {},
   "source": [
    "## Ejercicios del curso de AWS en Python (16 de mayo 2024)"
   ]
  },
  {
   "cell_type": "code",
   "execution_count": null,
   "id": "8e548613-b81c-4ebc-85a7-c71deab5e0f3",
   "metadata": {},
   "outputs": [],
   "source": [
    "# creamos una lista de nombres\n",
    "# le ponemos la condición de que si el elemento existe en la lista\n",
    "# use la función anterior para devolverlo en mayúsculas\n",
    "\n",
    "def capitalize():\n",
    "    \"una funcióon que escriba en mayúcsulas\"\n",
    "\n",
    "names = {\"Bryan\", \"Oscar\", \"Oskar\"}\n",
    "for name in names\n",
    "    nameCapital = capitalize(name)\n",
    "\n",
    "print(nameCapital)\n"
   ]
  },
  {
   "cell_type": "code",
   "execution_count": 1,
   "id": "917c15c5-8f5d-407c-b44f-010371bd9bad",
   "metadata": {},
   "outputs": [
    {
     "name": "stdout",
     "output_type": "stream",
     "text": [
      "OSCAR\n",
      "OSKAR\n",
      "BRYAN\n"
     ]
    }
   ],
   "source": [
    "# Definimos una función para capitalizar nombres\n",
    "def capitalize(name):\n",
    "    \"Una función que devuelve el nombre en mayúsculas\"\n",
    "    return name.upper()\n",
    "\n",
    "# Creamos una lista de nombres\n",
    "names = {\"Bryan\", \"Oscar\", \"Oskar\"}\n",
    "\n",
    "# Iteramos sobre cada nombre en la lista\n",
    "for name in names:\n",
    "    # Capitalizamos el nombre utilizando la función 'capitalize'\n",
    "    nameCapital = capitalize(name)\n",
    "    # Imprimimos el nombre capitalizado\n",
    "    print(nameCapital)\n"
   ]
  },
  {
   "cell_type": "code",
   "execution_count": 15,
   "id": "78beb327-0d21-4659-8fa2-18e6576724c2",
   "metadata": {},
   "outputs": [
    {
     "name": "stdout",
     "output_type": "stream",
     "text": [
      "Bryan ---> OSCAR\n",
      "Bryan ---> OSKAR\n",
      "Bryan ---> BRYAN\n"
     ]
    }
   ],
   "source": [
    "# Definimos una función para capitalizar nombres\n",
    "# Creamos una lista de nombres\n",
    "# Iteramos sobre cada nombre en la lista\n",
    "# Capitalizamos el nombre utilizando la función 'capitalize'\n",
    "# Imprimimos el nombre capitalizado\n",
    "# le pido que muestre el nombre original y el resultante de la función\n",
    "\n",
    "def capitalize(name):\n",
    "    return name.upper()\n",
    "\n",
    "names = {\"Bryan\", \"Oscar\", \"Oskar\"}\n",
    "\n",
    "for fulanito in names:\n",
    "    nameCapital = capitalize(fulanito)\n",
    "    \n",
    "    print(name, \"--->\", nameCapital) \n"
   ]
  },
  {
   "cell_type": "code",
   "execution_count": null,
   "id": "b211c8f6-c11d-4402-95b7-0736fd4870f8",
   "metadata": {},
   "outputs": [],
   "source": []
  },
  {
   "cell_type": "code",
   "execution_count": 4,
   "id": "9860cb44-6866-4572-8f7c-da45276690ab",
   "metadata": {},
   "outputs": [
    {
     "name": "stdout",
     "output_type": "stream",
     "text": [
      "Ingresa un nombre, hombre !:  Cristina\n"
     ]
    },
    {
     "name": "stdout",
     "output_type": "stream",
     "text": [
      "CRISTINA\n"
     ]
    }
   ],
   "source": [
    "# Definimos una función para capitalizar nombres\n",
    "def capitalize(name):\n",
    "    \"Una función que devuelve el nombre en mayúsculas\"\n",
    "    return name.upper()\n",
    "\n",
    "# Creamos una lista de nombres\n",
    "names = {\"Bryan\", \"Oscar\", \"Oskar\", \"Cristina\"}\n",
    "\n",
    "# Solicitamos al usuario que ingrese un nombre\n",
    "name_input = input(\"Ingresa un nombre, hombre !: \")\n",
    "\n",
    "# Verificamos si el nombre ingresado está en la lista predefinida\n",
    "if name_input in names:\n",
    "    # Capitalizamos el nombre ingresado utilizando la función 'capitalize'\n",
    "    nameCapital = capitalize(name_input)\n",
    "    # Imprimimos el nombre capitalizado\n",
    "    print(nameCapital)\n",
    "else:\n",
    "    # Si el nombre ingresado no está en la lista, mostramos un mensaje\n",
    "    print(\"El nombre ingresado no se encuentra en la lista.\")\n"
   ]
  },
  {
   "cell_type": "code",
   "execution_count": 10,
   "id": "7884ffb8-fbcb-40f4-b92c-71c0e4f0febf",
   "metadata": {},
   "outputs": [
    {
     "name": "stdout",
     "output_type": "stream",
     "text": [
      "Ingresa un nombre:  C\n"
     ]
    },
    {
     "name": "stdout",
     "output_type": "stream",
     "text": [
      "C \u001b[1;31mEl nombre C no está en la lista predefinida.\u001b[0m\n"
     ]
    }
   ],
   "source": [
    "# 1. Definimos una función para devolver nombres en mayúsculas\n",
    "# 2. Creamos una lista de nombres\n",
    "# 3. Solicitamos al usuario que ingrese un nombre\n",
    "\n",
    "# 1\n",
    "def capitalize(name):\n",
    "    return name.upper()\n",
    "\n",
    "# 2\n",
    "names = {\"Bryan\", \"Oscar\", \"Oskar\"}\n",
    "\n",
    "# 3\n",
    "name_input = input(\"Ingresa un nombre: \")\n",
    "\n",
    "# Verificamos si el nombre ingresado está en la lista predefinida\n",
    "if name_input in names:\n",
    "    # Capitalizamos el nombre ingresado utilizando la función 'capitalize'\n",
    "    nameCapital = capitalize(name_input)\n",
    "    # Imprimimos el nombre capitalizado\n",
    "    print(nameCapital)\n",
    "else:\n",
    "    # Si el nombre ingresado no está en la lista, mostramos un mensaje en rojo negrita\n",
    "    print(\"El nombre\", name_input, \"no está en la lista predefinida.\")\n"
   ]
  },
  {
   "cell_type": "markdown",
   "id": "68f37702-9307-4452-b0b8-af85ae211d46",
   "metadata": {},
   "source": [
    "<h1>109- [PF] - Lab - Tipos de datos numéricos</h1>\n",
    "<h2><a href=\"https://aspiring-gaura-1f9.notion.site/Calendar-7fd07a08cedb4e4f8fb4dc55550df629?p=3247ab4cc45c4b579ba89a1e640f8f16&pm=s\">Link</a></h2>\n"
   ]
  },
  {
   "cell_type": "code",
   "execution_count": 12,
   "id": "95da88bd-f4e2-434e-ab90-ce48294e9aa4",
   "metadata": {},
   "outputs": [
    {
     "data": {
      "text/plain": [
       "'\\n<h1>109- [PF] - Lab - Tipos de datos numéricos</h1>\\n<h2><a href=\"https://aspiring-gaura-1f9.notion.site/Calendar-7fd07a08cedb4e4f8fb4dc55550df629?p=3247ab4cc45c4b579ba89a1e640f8f16&pm=s\">Link</a></h2>\\n'"
      ]
     },
     "execution_count": 12,
     "metadata": {},
     "output_type": "execute_result"
    }
   ],
   "source": [
    "html_code = \"\"\"\n",
    "<h1>109- [PF] - Lab - Tipos de datos numéricos</h1>\n",
    "<h2><a href=\"https://aspiring-gaura-1f9.notion.site/Calendar-7fd07a08cedb4e4f8fb4dc55550df629?p=3247ab4cc45c4b579ba89a1e640f8f16&pm=s\">Link</a></h2>\n",
    "\"\"\"\n",
    "html_code"
   ]
  }
 ],
 "metadata": {
  "kernelspec": {
   "display_name": "Python 3 (ipykernel)",
   "language": "python",
   "name": "python3"
  },
  "language_info": {
   "codemirror_mode": {
    "name": "ipython",
    "version": 3
   },
   "file_extension": ".py",
   "mimetype": "text/x-python",
   "name": "python",
   "nbconvert_exporter": "python",
   "pygments_lexer": "ipython3",
   "version": "3.9.13"
  }
 },
 "nbformat": 4,
 "nbformat_minor": 5
}
